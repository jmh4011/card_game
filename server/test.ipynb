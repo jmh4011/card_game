{
 "cells": [
  {
   "cell_type": "code",
   "execution_count": 1,
   "metadata": {},
   "outputs": [
    {
     "data": {
      "text/plain": [
       "1"
      ]
     },
     "execution_count": 1,
     "metadata": {},
     "output_type": "execute_result"
    }
   ],
   "source": [
    "import pymysql\n",
    "import bcrypt\n",
    "\n",
    "\n",
    "conn = pymysql.connect(host='127.0.0.1', user='admin', password='0000', db='card_game', charset='utf8')\n",
    "cur = conn.cursor()\n",
    "\n",
    "\n",
    "    \n",
    "cur.execute(\"SELECT * FROM user WHERE userid=%s AND password=%s;\", ('a', 'a'))"
   ]
  }
 ],
 "metadata": {
  "kernelspec": {
   "display_name": "wwweb",
   "language": "python",
   "name": "python3"
  },
  "language_info": {
   "codemirror_mode": {
    "name": "ipython",
    "version": 3
   },
   "file_extension": ".py",
   "mimetype": "text/x-python",
   "name": "python",
   "nbconvert_exporter": "python",
   "pygments_lexer": "ipython3",
   "version": "3.11.8"
  }
 },
 "nbformat": 4,
 "nbformat_minor": 2
}
